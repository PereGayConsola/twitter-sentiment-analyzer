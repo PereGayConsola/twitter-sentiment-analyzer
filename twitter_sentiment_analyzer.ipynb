{
 "cells": [
  {
   "cell_type": "markdown",
   "id": "0cb33c45",
   "metadata": {},
   "source": [
    "# 🐦 Twitter Sentiment Analyzer\n",
    "Este proyecto analiza el sentimiento de tweets sobre una palabra clave usando Python, snscrape y TextBlob."
   ]
  },
  {
   "cell_type": "code",
   "execution_count": 6,
   "id": "c2eee019-3f9f-4b89-87b5-7fcdf4c38587",
   "metadata": {},
   "outputs": [
    {
     "data": {
      "text/html": [
       "<div>\n",
       "<style scoped>\n",
       "    .dataframe tbody tr th:only-of-type {\n",
       "        vertical-align: middle;\n",
       "    }\n",
       "\n",
       "    .dataframe tbody tr th {\n",
       "        vertical-align: top;\n",
       "    }\n",
       "\n",
       "    .dataframe thead th {\n",
       "        text-align: right;\n",
       "    }\n",
       "</style>\n",
       "<table border=\"1\" class=\"dataframe\">\n",
       "  <thead>\n",
       "    <tr style=\"text-align: right;\">\n",
       "      <th></th>\n",
       "      <th>Fecha</th>\n",
       "      <th>Texto</th>\n",
       "    </tr>\n",
       "  </thead>\n",
       "  <tbody>\n",
       "    <tr>\n",
       "      <th>0</th>\n",
       "      <td>2025-05-20</td>\n",
       "      <td>La IA está revolucionando la forma en que trab...</td>\n",
       "    </tr>\n",
       "    <tr>\n",
       "      <th>1</th>\n",
       "      <td>2025-05-20</td>\n",
       "      <td>Me da miedo el futuro con tanta inteligencia a...</td>\n",
       "    </tr>\n",
       "    <tr>\n",
       "      <th>2</th>\n",
       "      <td>2025-05-20</td>\n",
       "      <td>Hoy he probado ChatGPT y estoy impresionado.</td>\n",
       "    </tr>\n",
       "    <tr>\n",
       "      <th>3</th>\n",
       "      <td>2025-05-20</td>\n",
       "      <td>La inteligencia artificial destruirá empleos.</td>\n",
       "    </tr>\n",
       "    <tr>\n",
       "      <th>4</th>\n",
       "      <td>2025-05-20</td>\n",
       "      <td>La IA es una herramienta increíble para automa...</td>\n",
       "    </tr>\n",
       "  </tbody>\n",
       "</table>\n",
       "</div>"
      ],
      "text/plain": [
       "        Fecha                                              Texto\n",
       "0  2025-05-20  La IA está revolucionando la forma en que trab...\n",
       "1  2025-05-20  Me da miedo el futuro con tanta inteligencia a...\n",
       "2  2025-05-20       Hoy he probado ChatGPT y estoy impresionado.\n",
       "3  2025-05-20      La inteligencia artificial destruirá empleos.\n",
       "4  2025-05-20  La IA es una herramienta increíble para automa..."
      ]
     },
     "execution_count": 6,
     "metadata": {},
     "output_type": "execute_result"
    }
   ],
   "source": [
    "import pandas as pd\n",
    "\n",
    "# Cargar tweets desde el archivo CSV\n",
    "df = pd.read_csv(\"tweets_IA.csv\")\n",
    "df.head()\n"
   ]
  },
  {
   "cell_type": "code",
   "execution_count": null,
   "id": "086bf604",
   "metadata": {},
   "outputs": [],
   "source": [
    "# 1. Importar librerías\n",
    "import snscrape.modules.twitter as sntwitter\n",
    "import pandas as pd\n",
    "import matplotlib.pyplot as plt\n",
    "from textblob import TextBlob"
   ]
  },
  {
   "cell_type": "code",
   "execution_count": null,
   "id": "5c99c8f4",
   "metadata": {},
   "outputs": [],
   "source": [
    "# 2. Recoger tweets con una palabra clave\n",
    "query = \"IA\"\n",
    "tweets = []\n",
    "\n",
    "for i, tweet in enumerate(sntwitter.TwitterSearchScraper(query).get_items()):\n",
    "    if i > 100:\n",
    "        break\n",
    "    tweets.append([tweet.date, tweet.content])\n",
    "\n",
    "df = pd.DataFrame(tweets, columns=[\"Fecha\", \"Texto\"])\n",
    "df.head()"
   ]
  },
  {
   "cell_type": "code",
   "execution_count": null,
   "id": "da7cc073",
   "metadata": {},
   "outputs": [],
   "source": [
    "# 3. Analizar sentimientos\n",
    "def obtener_sentimiento(texto):\n",
    "    return TextBlob(texto).sentiment.polarity\n",
    "\n",
    "df[\"Sentimiento\"] = df[\"Texto\"].apply(obtener_sentimiento)\n",
    "df.head()"
   ]
  },
  {
   "cell_type": "code",
   "execution_count": null,
   "id": "fcdf9e2e",
   "metadata": {},
   "outputs": [],
   "source": [
    "# 4. Clasificar como Positivo / Negativo / Neutro\n",
    "def clasificar_polaridad(p):\n",
    "    if p > 0:\n",
    "        return \"Positivo\"\n",
    "    elif p < 0:\n",
    "        return \"Negativo\"\n",
    "    else:\n",
    "        return \"Neutro\"\n",
    "\n",
    "df[\"Clasificación\"] = df[\"Sentimiento\"].apply(clasificar_polaridad)\n",
    "df.head()"
   ]
  },
  {
   "cell_type": "code",
   "execution_count": null,
   "id": "7bfec0b9",
   "metadata": {},
   "outputs": [],
   "source": [
    "# 5. Graficar resultados\n",
    "df[\"Clasificación\"].value_counts().plot(kind=\"bar\", title=\"Análisis de sentimientos\")\n",
    "plt.xlabel(\"Sentimiento\")\n",
    "plt.ylabel(\"Cantidad\")\n",
    "plt.show()"
   ]
  },
  {
   "cell_type": "code",
   "execution_count": 4,
   "id": "621e4f71-882e-4ee3-938d-2ade70b8d795",
   "metadata": {},
   "outputs": [
    {
     "data": {
      "text/html": [
       "<div>\n",
       "<style scoped>\n",
       "    .dataframe tbody tr th:only-of-type {\n",
       "        vertical-align: middle;\n",
       "    }\n",
       "\n",
       "    .dataframe tbody tr th {\n",
       "        vertical-align: top;\n",
       "    }\n",
       "\n",
       "    .dataframe thead th {\n",
       "        text-align: right;\n",
       "    }\n",
       "</style>\n",
       "<table border=\"1\" class=\"dataframe\">\n",
       "  <thead>\n",
       "    <tr style=\"text-align: right;\">\n",
       "      <th></th>\n",
       "      <th>Fecha</th>\n",
       "      <th>Texto</th>\n",
       "    </tr>\n",
       "  </thead>\n",
       "  <tbody>\n",
       "  </tbody>\n",
       "</table>\n",
       "</div>"
      ],
      "text/plain": [
       "Empty DataFrame\n",
       "Columns: [Fecha, Texto]\n",
       "Index: []"
      ]
     },
     "execution_count": 4,
     "metadata": {},
     "output_type": "execute_result"
    }
   ],
   "source": [
    "import json\n",
    "import pandas as pd\n",
    "\n",
    "# Leer el archivo JSON generado desde snscrape\n",
    "tweets_data = []\n",
    "\n",
    "with open(\"tweets.json\", \"r\", encoding=\"utf-8\") as f:\n",
    "    for line in f:\n",
    "        tweet = json.loads(line)\n",
    "        tweets_data.append([tweet['date'], tweet['content']])\n",
    "\n",
    "df = pd.DataFrame(tweets_data, columns=[\"Fecha\", \"Texto\"])\n",
    "df.head()\n"
   ]
  },
  {
   "cell_type": "code",
   "execution_count": 8,
   "id": "8a47b426-f02e-4058-8c44-8ea88f2fe215",
   "metadata": {},
   "outputs": [
    {
     "name": "stdout",
     "output_type": "stream",
     "text": [
      "Número de líneas en el archivo: 0\n"
     ]
    }
   ],
   "source": [
    "with open(\"tweets.json\", \"r\", encoding=\"utf-8\") as f:\n",
    "    lineas = f.readlines()\n",
    "\n",
    "print(f\"Número de líneas en el archivo: {len(lineas)}\")\n"
   ]
  },
  {
   "cell_type": "code",
   "execution_count": 9,
   "id": "4f6ca7b8-d61c-41dd-9687-5a5e8c544334",
   "metadata": {},
   "outputs": [
    {
     "data": {
      "text/html": [
       "<div>\n",
       "<style scoped>\n",
       "    .dataframe tbody tr th:only-of-type {\n",
       "        vertical-align: middle;\n",
       "    }\n",
       "\n",
       "    .dataframe tbody tr th {\n",
       "        vertical-align: top;\n",
       "    }\n",
       "\n",
       "    .dataframe thead th {\n",
       "        text-align: right;\n",
       "    }\n",
       "</style>\n",
       "<table border=\"1\" class=\"dataframe\">\n",
       "  <thead>\n",
       "    <tr style=\"text-align: right;\">\n",
       "      <th></th>\n",
       "      <th>Texto</th>\n",
       "      <th>Sentimiento</th>\n",
       "    </tr>\n",
       "  </thead>\n",
       "  <tbody>\n",
       "    <tr>\n",
       "      <th>0</th>\n",
       "      <td>La IA está revolucionando la forma en que trab...</td>\n",
       "      <td>0.0</td>\n",
       "    </tr>\n",
       "    <tr>\n",
       "      <th>1</th>\n",
       "      <td>Me da miedo el futuro con tanta inteligencia a...</td>\n",
       "      <td>-0.6</td>\n",
       "    </tr>\n",
       "    <tr>\n",
       "      <th>2</th>\n",
       "      <td>Hoy he probado ChatGPT y estoy impresionado.</td>\n",
       "      <td>0.0</td>\n",
       "    </tr>\n",
       "    <tr>\n",
       "      <th>3</th>\n",
       "      <td>La inteligencia artificial destruirá empleos.</td>\n",
       "      <td>-0.6</td>\n",
       "    </tr>\n",
       "    <tr>\n",
       "      <th>4</th>\n",
       "      <td>La IA es una herramienta increíble para automa...</td>\n",
       "      <td>0.0</td>\n",
       "    </tr>\n",
       "  </tbody>\n",
       "</table>\n",
       "</div>"
      ],
      "text/plain": [
       "                                               Texto  Sentimiento\n",
       "0  La IA está revolucionando la forma en que trab...          0.0\n",
       "1  Me da miedo el futuro con tanta inteligencia a...         -0.6\n",
       "2       Hoy he probado ChatGPT y estoy impresionado.          0.0\n",
       "3      La inteligencia artificial destruirá empleos.         -0.6\n",
       "4  La IA es una herramienta increíble para automa...          0.0"
      ]
     },
     "execution_count": 9,
     "metadata": {},
     "output_type": "execute_result"
    }
   ],
   "source": [
    "from textblob import TextBlob\n",
    "\n",
    "# Función para obtener la polaridad del texto\n",
    "def obtener_sentimiento(texto):\n",
    "    return TextBlob(texto).sentiment.polarity\n",
    "\n",
    "# Aplicar la función a cada tweet\n",
    "df[\"Sentimiento\"] = df[\"Texto\"].apply(obtener_sentimiento)\n",
    "\n",
    "# Ver los primeros resultados\n",
    "df[[\"Texto\", \"Sentimiento\"]].head()\n"
   ]
  },
  {
   "cell_type": "code",
   "execution_count": 10,
   "id": "0ddf6fbe-d5ad-4b9c-a50b-a2d548897937",
   "metadata": {},
   "outputs": [
    {
     "data": {
      "text/html": [
       "<div>\n",
       "<style scoped>\n",
       "    .dataframe tbody tr th:only-of-type {\n",
       "        vertical-align: middle;\n",
       "    }\n",
       "\n",
       "    .dataframe tbody tr th {\n",
       "        vertical-align: top;\n",
       "    }\n",
       "\n",
       "    .dataframe thead th {\n",
       "        text-align: right;\n",
       "    }\n",
       "</style>\n",
       "<table border=\"1\" class=\"dataframe\">\n",
       "  <thead>\n",
       "    <tr style=\"text-align: right;\">\n",
       "      <th></th>\n",
       "      <th>Texto</th>\n",
       "      <th>Sentimiento</th>\n",
       "      <th>Clasificación</th>\n",
       "    </tr>\n",
       "  </thead>\n",
       "  <tbody>\n",
       "    <tr>\n",
       "      <th>0</th>\n",
       "      <td>La IA está revolucionando la forma en que trab...</td>\n",
       "      <td>0.0</td>\n",
       "      <td>Neutro</td>\n",
       "    </tr>\n",
       "    <tr>\n",
       "      <th>1</th>\n",
       "      <td>Me da miedo el futuro con tanta inteligencia a...</td>\n",
       "      <td>-0.6</td>\n",
       "      <td>Negativo</td>\n",
       "    </tr>\n",
       "    <tr>\n",
       "      <th>2</th>\n",
       "      <td>Hoy he probado ChatGPT y estoy impresionado.</td>\n",
       "      <td>0.0</td>\n",
       "      <td>Neutro</td>\n",
       "    </tr>\n",
       "    <tr>\n",
       "      <th>3</th>\n",
       "      <td>La inteligencia artificial destruirá empleos.</td>\n",
       "      <td>-0.6</td>\n",
       "      <td>Negativo</td>\n",
       "    </tr>\n",
       "    <tr>\n",
       "      <th>4</th>\n",
       "      <td>La IA es una herramienta increíble para automa...</td>\n",
       "      <td>0.0</td>\n",
       "      <td>Neutro</td>\n",
       "    </tr>\n",
       "  </tbody>\n",
       "</table>\n",
       "</div>"
      ],
      "text/plain": [
       "                                               Texto  Sentimiento  \\\n",
       "0  La IA está revolucionando la forma en que trab...          0.0   \n",
       "1  Me da miedo el futuro con tanta inteligencia a...         -0.6   \n",
       "2       Hoy he probado ChatGPT y estoy impresionado.          0.0   \n",
       "3      La inteligencia artificial destruirá empleos.         -0.6   \n",
       "4  La IA es una herramienta increíble para automa...          0.0   \n",
       "\n",
       "  Clasificación  \n",
       "0        Neutro  \n",
       "1      Negativo  \n",
       "2        Neutro  \n",
       "3      Negativo  \n",
       "4        Neutro  "
      ]
     },
     "execution_count": 10,
     "metadata": {},
     "output_type": "execute_result"
    }
   ],
   "source": [
    "# Función para clasificar según polaridad\n",
    "def clasificar_sentimiento(polaridad):\n",
    "    if polaridad > 0:\n",
    "        return \"Positivo\"\n",
    "    elif polaridad < 0:\n",
    "        return \"Negativo\"\n",
    "    else:\n",
    "        return \"Neutro\"\n",
    "\n",
    "# Aplicar clasificación\n",
    "df[\"Clasificación\"] = df[\"Sentimiento\"].apply(clasificar_sentimiento)\n",
    "\n",
    "# Ver los primeros resultados\n",
    "df[[\"Texto\", \"Sentimiento\", \"Clasificación\"]].head()\n"
   ]
  },
  {
   "cell_type": "code",
   "execution_count": 11,
   "id": "7f0c88bc-f513-4839-aab7-c9cd74f43811",
   "metadata": {},
   "outputs": [
    {
     "data": {
      "image/png": "[encoded data removed]",
      "text/plain": [
       "<Figure size 640x480 with 1 Axes>"
      ]
     },
     "metadata": {},
     "output_type": "display_data"
    }
   ],
   "source": [
    "import matplotlib.pyplot as plt\n",
    "\n",
    "# Contar cuántos hay de cada tipo\n",
    "conteo = df[\"Clasificación\"].value_counts()\n",
    "\n",
    "# Crear gráfico de barras\n",
    "conteo.plot(kind=\"bar\", color=[\"green\", \"red\", \"gray\"])\n",
    "plt.title(\"Análisis de Sentimientos en Tweets sobre IA\")\n",
    "plt.xlabel(\"Sentimiento\")\n",
    "plt.ylabel(\"Cantidad de Tweets\")\n",
    "plt.xticks(rotation=0)\n",
    "plt.grid(axis=\"y\", linestyle=\"--\", alpha=0.7)\n",
    "plt.tight_layout()\n",
    "plt.show()\n",
    "\n"
   ]
  },
  {
   "cell_type": "code",
   "execution_count": null,
   "id": "6ea99fd0-3aca-4e20-a225-ade00f98b6d5",
   "metadata": {},
   "outputs": [],
   "source": []
  }
 ],
 "metadata": {
  "kernelspec": {
   "display_name": "Python 3 (ipykernel)",
   "language": "python",
   "name": "python3"
  },
  "language_info": {
   "codemirror_mode": {
    "name": "ipython",
    "version": 3
   },
   "file_extension": ".py",
   "mimetype": "text/x-python",
   "name": "python",
   "nbconvert_exporter": "python",
   "pygments_lexer": "ipython3",
   "version": "3.13.3"
  }
 },
 "nbformat": 4,
 "nbformat_minor": 5
}
